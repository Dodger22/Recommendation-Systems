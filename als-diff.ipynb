{
 "cells": [
  {
   "cell_type": "code",
   "execution_count": 1,
   "id": "5e1401e1",
   "metadata": {},
   "outputs": [
    {
     "name": "stdout",
     "output_type": "stream",
     "text": [
      "Requirement already satisfied: pandas==1.3.5 in c:\\users\\mirza\\anaconda3\\lib\\site-packages (1.3.5)\n",
      "Requirement already satisfied: python-dateutil>=2.7.3 in c:\\users\\mirza\\anaconda3\\lib\\site-packages (from pandas==1.3.5) (2.8.2)\n",
      "Requirement already satisfied: numpy>=1.17.3 in c:\\users\\mirza\\anaconda3\\lib\\site-packages (from pandas==1.3.5) (1.23.1)\n",
      "Requirement already satisfied: pytz>=2017.3 in c:\\users\\mirza\\anaconda3\\lib\\site-packages (from pandas==1.3.5) (2021.3)\n",
      "Requirement already satisfied: six>=1.5 in c:\\users\\mirza\\anaconda3\\lib\\site-packages (from python-dateutil>=2.7.3->pandas==1.3.5) (1.16.0)\n"
     ]
    }
   ],
   "source": [
    "#!pip install pandas==1.3.5"
   ]
  },
  {
   "cell_type": "code",
   "execution_count": 2,
   "id": "0352398b",
   "metadata": {},
   "outputs": [
    {
     "name": "stdout",
     "output_type": "stream",
     "text": [
      "System version: 3.9.7 (default, Sep 16 2021, 16:59:28) [MSC v.1916 64 bit (AMD64)]\n",
      "Spark version: 3.1.2\n"
     ]
    }
   ],
   "source": [
    "import pandas as pd\n",
    "import sys\n",
    "import os \n",
    "\n",
    "os.environ['PYSPARK_DRIVER_PYTHON_OPTS']= \"notebook\"\n",
    "os.environ['PYSPARK_PYTHON'] = sys.executable\n",
    "os.environ['PYSPARK_DRIVER_PYTHON'] = sys.executable\n",
    "\n",
    "import string\n",
    "import pyspark\n",
    "from pyspark.ml.recommendation import ALS\n",
    "import pyspark.sql.functions as F\n",
    "import pyspark.sql.functions as F\n",
    "from pyspark.sql import SparkSession\n",
    "from pyspark.sql.types import StructType, StructField\n",
    "from pyspark.sql.types import StringType, FloatType, IntegerType, LongType\n",
    "import warnings\n",
    "\n",
    "from recommenders.utils.spark_utils import start_or_get_spark\n",
    "from pyspark.ml.evaluation import RegressionEvaluator\n",
    "from pyspark.ml.recommendation import ALS\n",
    "from pyspark.ml.tuning import TrainValidationSplit, ParamGridBuilder\n",
    "\n",
    "\n",
    "warnings.simplefilter(action='ignore', category=FutureWarning)\n",
    "\n",
    "print(\"System version: {}\".format(sys.version))\n",
    "print(\"Spark version: {}\".format(pyspark.__version__))"
   ]
  },
  {
   "cell_type": "code",
   "execution_count": 3,
   "id": "acba63a0",
   "metadata": {},
   "outputs": [
    {
     "data": {
      "text/plain": [
       "'1.3.5'"
      ]
     },
     "execution_count": 3,
     "metadata": {},
     "output_type": "execute_result"
    }
   ],
   "source": [
    "pd.__version__"
   ]
  },
  {
   "cell_type": "code",
   "execution_count": 22,
   "id": "3886e31d",
   "metadata": {},
   "outputs": [
    {
     "name": "stderr",
     "output_type": "stream",
     "text": [
      "C:\\Users\\mirza\\anaconda3\\lib\\site-packages\\pandas\\util\\_decorators.py:311: ParserWarning: Falling back to the 'python' engine because the 'c' engine does not support regex separators (separators > 1 char and different from '\\s+' are interpreted as regex); you can avoid this warning by specifying engine='python'.\n",
      "  return func(*args, **kwargs)\n"
     ]
    }
   ],
   "source": [
    "ratings_data = pd.read_csv(\n",
    "        r\"C:\\Users\\mirza\\Desktop\\dataset\\MovieLens-1M\\ratings.csv\",sep = \"::\",\n",
    "        names=[\"userId\", \"movieId\", \"ratings\", \"timestamp\"])\n",
    "\n",
    "movie= pd.read_csv(\n",
    "        r\"C:\\Users\\mirza\\Desktop\\dataset\\MovieLens-1M\\movies.csv\",sep = \"::\",\n",
    "        names=[\"movieId\", \"Title\", \"Genres\"])"
   ]
  },
  {
   "cell_type": "code",
   "execution_count": 5,
   "id": "e39bbea8",
   "metadata": {},
   "outputs": [],
   "source": [
    " spark = SparkSession \\\n",
    "  .builder \\\n",
    "  .appName(\"Example\") \\\n",
    "  .config(\"spark.driver.memory\", \"16g\")\\\n",
    "  .getOrCreate()"
   ]
  },
  {
   "cell_type": "code",
   "execution_count": 6,
   "id": "77ca4ec0",
   "metadata": {},
   "outputs": [],
   "source": [
    "ratings_data=spark.createDataFrame(ratings_data) \n",
    "#movie=spark.createDataFrame(movie) "
   ]
  },
  {
   "cell_type": "code",
   "execution_count": 7,
   "id": "5140a847",
   "metadata": {},
   "outputs": [
    {
     "name": "stdout",
     "output_type": "stream",
     "text": [
      "userId , LongType\n",
      "movieId , LongType\n",
      "ratings , LongType\n",
      "timestamp , LongType\n"
     ]
    }
   ],
   "source": [
    "for field in ratings_data.schema.fields:\n",
    "    print(field.name +\" , \"+str(field.dataType))"
   ]
  },
  {
   "cell_type": "raw",
   "id": "de1cf0fe",
   "metadata": {},
   "source": [
    "from pyspark.sql.types import IntegerType\n",
    "from pyspark.sql.functions import col\n",
    "\n",
    "ratings_data =ratings_data.withColumn(\"userId\", col(\"userId\").cast(\"integer\"))\n",
    "ratings_data =ratings_data.withColumn(\"movieId\", col(\"movieId\").cast(\"integer\"))\n",
    "ratings_data =ratings_data.withColumn(\"ratings\", col(\"ratings\").cast(\"double\"))\n",
    "ratings_data =ratings_data.withColumn(\"timestamp\", col(\"timestamp\").cast(\"integer\"))"
   ]
  },
  {
   "cell_type": "code",
   "execution_count": 8,
   "id": "cea07ea0",
   "metadata": {},
   "outputs": [],
   "source": [
    "(training, test) = ratings_data.randomSplit ([0.8, 0.2])\n",
    "\n",
    "als = ALS(userCol=\"userId\", itemCol=\"movieId\", ratingCol=\"ratings\", coldStartStrategy=\"drop\", nonnegative=True)"
   ]
  },
  {
   "cell_type": "code",
   "execution_count": 9,
   "id": "aeaf7f2d",
   "metadata": {},
   "outputs": [],
   "source": [
    "param_grid = ParamGridBuilder()\\\n",
    "            .addGrid(als.rank, [10])\\\n",
    "            .addGrid(als.maxIter, [15])\\\n",
    "            .addGrid(als.regParam, [0.05])\\\n",
    "            .build()\n",
    "\n",
    "evaluator = RegressionEvaluator(metricName=\"rmse\", labelCol=\"ratings\",\n",
    "                               predictionCol=\"prediction\")\n",
    "\n",
    "tvs = TrainValidationSplit(estimator = als,\n",
    "                          estimatorParamMaps= param_grid,\n",
    "                          evaluator = evaluator)\n"
   ]
  },
  {
   "cell_type": "code",
   "execution_count": 10,
   "id": "7698e33c",
   "metadata": {},
   "outputs": [
    {
     "name": "stdout",
     "output_type": "stream",
     "text": [
      "RMSE = 0.8564721754793594\n",
      "**Best Model**\n",
      " Rank:\n",
      " MaxIter:\n",
      " RegParam:\n"
     ]
    },
    {
     "data": {
      "text/plain": [
       "(None, 0.05)"
      ]
     },
     "execution_count": 10,
     "metadata": {},
     "output_type": "execute_result"
    }
   ],
   "source": [
    "model = tvs.fit(training)\n",
    "\n",
    "best_model = model.bestModel\n",
    "\n",
    "predictions = best_model.transform(test)\n",
    "rmse = evaluator.evaluate(predictions)\n",
    "\n",
    "print(\"RMSE = \" + str(rmse))\n",
    "print(\"**Best Model**\")\n",
    "print(\" Rank:\"), best_model.rank\n",
    "print(\" MaxIter:\"), best_model._java_obj.parent().getMaxIter()\n",
    "print(\" RegParam:\"), best_model._java_obj.parent().getRegParam()"
   ]
  },
  {
   "cell_type": "code",
   "execution_count": 11,
   "id": "098cf171",
   "metadata": {},
   "outputs": [],
   "source": [
    "user_recs = best_model.recommendForAllUsers(5)"
   ]
  },
  {
   "cell_type": "code",
   "execution_count": 12,
   "id": "8c6665b9",
   "metadata": {},
   "outputs": [
    {
     "name": "stdout",
     "output_type": "stream",
     "text": [
      "+------+--------------------+\n",
      "|userId|     recommendations|\n",
      "+------+--------------------+\n",
      "|    26|[{572, 5.062233},...|\n",
      "|    27|[{2503, 5.1979637...|\n",
      "|    28|[{3310, 4.730515}...|\n",
      "|    31|[{572, 5.1795774}...|\n",
      "|    34|[{572, 5.877676},...|\n",
      "|    44|[{214, 5.0411854}...|\n",
      "|    53|[{557, 6.218903},...|\n",
      "|    65|[{572, 6.2710576}...|\n",
      "|    76|[{572, 5.6091995}...|\n",
      "|    78|[{666, 4.874102},...|\n",
      "|    81|[{2323, 5.728367}...|\n",
      "|    85|[{2964, 6.045653}...|\n",
      "|   101|[{1421, 7.050477}...|\n",
      "|   108|[{2494, 5.1378493...|\n",
      "|   115|[{1420, 5.465139}...|\n",
      "|   126|[{3192, 5.730672}...|\n",
      "|   133|[{572, 5.963087},...|\n",
      "|   137|[{572, 5.178694},...|\n",
      "|   148|[{572, 5.5068383}...|\n",
      "|   155|[{1519, 4.9232388...|\n",
      "+------+--------------------+\n",
      "only showing top 20 rows\n",
      "\n"
     ]
    }
   ],
   "source": [
    "user_recs.show()"
   ]
  },
  {
   "cell_type": "code",
   "execution_count": 13,
   "id": "c82cdcc3",
   "metadata": {},
   "outputs": [
    {
     "name": "stdout",
     "output_type": "stream",
     "text": [
      "+------+--------------------+\n",
      "|userId|     recommendations|\n",
      "+------+--------------------+\n",
      "|   140|[{2931, 4.8981066...|\n",
      "+------+--------------------+\n",
      "\n"
     ]
    }
   ],
   "source": [
    "user_recs.filter(user_recs.userId == \"140\").show()"
   ]
  },
  {
   "cell_type": "code",
   "execution_count": 75,
   "id": "44ed462e",
   "metadata": {},
   "outputs": [
    {
     "name": "stdout",
     "output_type": "stream",
     "text": [
      "<class 'pandas.core.frame.DataFrame'>\n",
      "RangeIndex: 3883 entries, 0 to 3882\n",
      "Data columns (total 3 columns):\n",
      " #   Column   Non-Null Count  Dtype \n",
      "---  ------   --------------  ----- \n",
      " 0   movieId  3883 non-null   int32 \n",
      " 1   Title    3883 non-null   object\n",
      " 2   Genres   3883 non-null   object\n",
      "dtypes: int32(1), object(2)\n",
      "memory usage: 76.0+ KB\n"
     ]
    }
   ],
   "source": [
    "movie[\"movieId\"]= movie[\"movieId\"].str.replace('[{}]'.format(string.punctuation), '')\n",
    "movie[\"movieId\"]=movie[\"movieId\"].astype(int)\n",
    "movie.info()"
   ]
  },
  {
   "cell_type": "code",
   "execution_count": 15,
   "id": "192bd344",
   "metadata": {},
   "outputs": [],
   "source": [
    "movie.drop([\"Genres\"],axis=1, inplace=True)"
   ]
  },
  {
   "cell_type": "code",
   "execution_count": 81,
   "id": "4ae15e73",
   "metadata": {},
   "outputs": [],
   "source": [
    "def get_recs_for_user(user):\n",
    "    recs = user_recs.filter(user_recs.userId==user)\n",
    "    recs = recs.select(\"recommendations.movieId\", \"recommendations.rating\") # add \"userId\" ıf you want to add userId column\n",
    "    movies = recs.select(\"movieId\").toPandas().iloc[0,0]\n",
    "    #ratings= recs.select(\"rating\").toPandas().iloc[0,0]\n",
    "    #userıd= recs.select(\"userId\").toPandas().iloc[0,0] \n",
    "    ratings_matrix= pd.DataFrame(movies, columns=[\"movieId\"])\n",
    "    #ratings_matrix[\"ratings\"]=ratings\n",
    "    #ratings_matrix[\"userId\"]=userıd  \n",
    "    #ratings_matrix_ps= spark.createDataFrame(ratings_matrix) #ıf you want to get spark dataframe\n",
    "    matrix = pd.merge(ratings_matrix, movie, how=\"inner\", on=\"movieId\")\n",
    "    \n",
    "\n",
    "    recommended_movies = []\n",
    "    recommended_movies_posters = []\n",
    "    \n",
    "    for i in matrix.movieId:\n",
    "        recommended_movies_posters.append(i)\n",
    "        \n",
    "    for k in matrix.Title:\n",
    "        recommended_movies.append(k)\n",
    "    \n",
    "    return recommended_movies, recommended_movies_posters"
   ]
  },
  {
   "cell_type": "code",
   "execution_count": 82,
   "id": "1dff22fd",
   "metadata": {},
   "outputs": [
    {
     "data": {
      "text/plain": [
       "(['Time of the Gypsies (Dom za vesanje) (1989)',\n",
       "  'Zachariah (1971)',\n",
       "  'I Am Cuba (Soy Cuba/Ya Kuba) (1964)',\n",
       "  'World of Apu, The (Apur Sansar) (1959)',\n",
       "  'Leather Jacket Love Story (1997)'],\n",
       " [2931, 3236, 3245, 670, 1851])"
      ]
     },
     "execution_count": 82,
     "metadata": {},
     "output_type": "execute_result"
    }
   ],
   "source": [
    "get_recs_for_user(140)"
   ]
  },
  {
   "cell_type": "code",
   "execution_count": 18,
   "id": "f7024d4c",
   "metadata": {},
   "outputs": [
    {
     "data": {
      "text/html": [
       "<div>\n",
       "<style scoped>\n",
       "    .dataframe tbody tr th:only-of-type {\n",
       "        vertical-align: middle;\n",
       "    }\n",
       "\n",
       "    .dataframe tbody tr th {\n",
       "        vertical-align: top;\n",
       "    }\n",
       "\n",
       "    .dataframe thead th {\n",
       "        text-align: right;\n",
       "    }\n",
       "</style>\n",
       "<table border=\"1\" class=\"dataframe\">\n",
       "  <thead>\n",
       "    <tr style=\"text-align: right;\">\n",
       "      <th></th>\n",
       "      <th>movieId</th>\n",
       "      <th>Title</th>\n",
       "    </tr>\n",
       "  </thead>\n",
       "  <tbody>\n",
       "    <tr>\n",
       "      <th>0</th>\n",
       "      <td>1</td>\n",
       "      <td>Toy Story (1995)</td>\n",
       "    </tr>\n",
       "    <tr>\n",
       "      <th>1</th>\n",
       "      <td>2</td>\n",
       "      <td>Jumanji (1995)</td>\n",
       "    </tr>\n",
       "    <tr>\n",
       "      <th>2</th>\n",
       "      <td>3</td>\n",
       "      <td>Grumpier Old Men (1995)</td>\n",
       "    </tr>\n",
       "    <tr>\n",
       "      <th>3</th>\n",
       "      <td>4</td>\n",
       "      <td>Waiting to Exhale (1995)</td>\n",
       "    </tr>\n",
       "    <tr>\n",
       "      <th>4</th>\n",
       "      <td>5</td>\n",
       "      <td>Father of the Bride Part II (1995)</td>\n",
       "    </tr>\n",
       "    <tr>\n",
       "      <th>...</th>\n",
       "      <td>...</td>\n",
       "      <td>...</td>\n",
       "    </tr>\n",
       "    <tr>\n",
       "      <th>3878</th>\n",
       "      <td>3948</td>\n",
       "      <td>Meet the Parents (2000)</td>\n",
       "    </tr>\n",
       "    <tr>\n",
       "      <th>3879</th>\n",
       "      <td>3949</td>\n",
       "      <td>Requiem for a Dream (2000)</td>\n",
       "    </tr>\n",
       "    <tr>\n",
       "      <th>3880</th>\n",
       "      <td>3950</td>\n",
       "      <td>Tigerland (2000)</td>\n",
       "    </tr>\n",
       "    <tr>\n",
       "      <th>3881</th>\n",
       "      <td>3951</td>\n",
       "      <td>Two Family House (2000)</td>\n",
       "    </tr>\n",
       "    <tr>\n",
       "      <th>3882</th>\n",
       "      <td>3952</td>\n",
       "      <td>Contender, The (2000)</td>\n",
       "    </tr>\n",
       "  </tbody>\n",
       "</table>\n",
       "<p>3883 rows × 2 columns</p>\n",
       "</div>"
      ],
      "text/plain": [
       "      movieId                               Title\n",
       "0           1                    Toy Story (1995)\n",
       "1           2                      Jumanji (1995)\n",
       "2           3             Grumpier Old Men (1995)\n",
       "3           4            Waiting to Exhale (1995)\n",
       "4           5  Father of the Bride Part II (1995)\n",
       "...       ...                                 ...\n",
       "3878     3948             Meet the Parents (2000)\n",
       "3879     3949          Requiem for a Dream (2000)\n",
       "3880     3950                    Tigerland (2000)\n",
       "3881     3951             Two Family House (2000)\n",
       "3882     3952               Contender, The (2000)\n",
       "\n",
       "[3883 rows x 2 columns]"
      ]
     },
     "execution_count": 18,
     "metadata": {},
     "output_type": "execute_result"
    }
   ],
   "source": [
    "movie"
   ]
  },
  {
   "cell_type": "code",
   "execution_count": 66,
   "id": "ec7b973d",
   "metadata": {},
   "outputs": [],
   "source": [
    "import pickle\n",
    "\n",
    "pickle.dump(movie, open(\"movie.pkl\",\"wb\" ))\n",
    "pickle.dump(users, open(\"users.pkl\",\"wb\" ))"
   ]
  },
  {
   "cell_type": "code",
   "execution_count": null,
   "id": "8e72552c",
   "metadata": {},
   "outputs": [],
   "source": [
    "user_recs.select(\"userId\", \"recommendations\").write.save(\"user_recs.parquet\")"
   ]
  }
 ],
 "metadata": {
  "kernelspec": {
   "display_name": "python37",
   "language": "python",
   "name": "python37"
  },
  "language_info": {
   "codemirror_mode": {
    "name": "ipython",
    "version": 3
   },
   "file_extension": ".py",
   "mimetype": "text/x-python",
   "name": "python",
   "nbconvert_exporter": "python",
   "pygments_lexer": "ipython3",
   "version": "3.9.7"
  }
 },
 "nbformat": 4,
 "nbformat_minor": 5
}
